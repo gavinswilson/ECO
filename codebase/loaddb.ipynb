{
 "cells": [
  {
   "cell_type": "code",
   "execution_count": 47,
   "metadata": {},
   "outputs": [],
   "source": [
    "import pandas as pd\n",
    "filename = \"../ecoMatrix.xlsx\"\n"
   ]
  },
  {
   "cell_type": "markdown",
   "metadata": {},
   "source": [
    "Load file using panda into a dataframe."
   ]
  },
  {
   "cell_type": "code",
   "execution_count": 48,
   "metadata": {},
   "outputs": [
    {
     "name": "stdout",
     "output_type": "stream",
     "text": [
      "<class 'pandas.core.frame.DataFrame'>\n",
      "RangeIndex: 619678 entries, 0 to 619677\n",
      "Data columns (total 32 columns):\n",
      " #   Column                Non-Null Count   Dtype         \n",
      "---  ------                --------------   -----         \n",
      " 0   DETAIL_ID             619678 non-null  int64         \n",
      " 1   LINE_NUM              619678 non-null  int64         \n",
      " 2   PID                   619678 non-null  object        \n",
      " 3   PID_DESC              538108 non-null  object        \n",
      " 4   PID_REV               164490 non-null  object        \n",
      " 5   ECO                   554272 non-null  object        \n",
      " 6   TAN                   286298 non-null  object        \n",
      " 7   TAN_REV               285212 non-null  object        \n",
      " 8   PCA                   129730 non-null  object        \n",
      " 9   PCA_REV               128810 non-null  object        \n",
      " 10  HW_REV                22021 non-null   object        \n",
      " 11  SHIPPABLE             283544 non-null  object        \n",
      " 12  EFFECTIVE_DATE        543592 non-null  object        \n",
      " 13  REWORK_DETAIL         66677 non-null   object        \n",
      " 14  ECO_ACTION            96542 non-null   object        \n",
      " 15  ECO_TITLE             540671 non-null  object        \n",
      " 16  COMMENTS              35034 non-null   object        \n",
      " 17  CREATED_BY            577548 non-null  float64       \n",
      " 18  CREATION_DATE         577548 non-null  datetime64[ns]\n",
      " 19  MODIFIED_BY           553952 non-null  float64       \n",
      " 20  MODIFIED_DATE         587227 non-null  datetime64[ns]\n",
      " 21  MASKED_ECO_DATE       304013 non-null  object        \n",
      " 22  ECO_TYPE              553254 non-null  object        \n",
      " 23  UNMASK_DATE           268396 non-null  datetime64[ns]\n",
      " 24  UNMASK_BY             269138 non-null  float64       \n",
      " 25  EFF_DT_STATUS         58792 non-null   object        \n",
      " 26  HISTORIC_FLAG         359869 non-null  object        \n",
      " 27  ECO_TYPE_CHANGE_DATE  136238 non-null  datetime64[ns]\n",
      " 28  VID                   227263 non-null  object        \n",
      " 29  ITEM_GROUP            563 non-null     object        \n",
      " 30  FAB_SPIN              619678 non-null  object        \n",
      " 31  ALTERNATE_TYPE        720 non-null     object        \n",
      "dtypes: datetime64[ns](4), float64(3), int64(2), object(23)\n",
      "memory usage: 151.3+ MB\n",
      "None\n"
     ]
    }
   ],
   "source": [
    "eco_matrix = pd.read_excel(filename)\n",
    "print(eco_matrix.info())"
   ]
  },
  {
   "cell_type": "markdown",
   "metadata": {},
   "source": [
    "Set default Variables"
   ]
  },
  {
   "cell_type": "code",
   "execution_count": 49,
   "metadata": {},
   "outputs": [],
   "source": [
    "OEMPart = False\n",
    "PIDShippable = False\n",
    "TANShippable = False\n",
    "TANOEMShippable = False\n",
    "ECOLevelRef = \"\"\n",
    "TANOEMIn = \"\" \n",
    "TANBaseOEM = \"\"\n",
    "TANRevOEM = \"\""
   ]
  },
  {
   "cell_type": "markdown",
   "metadata": {},
   "source": [
    "\n",
    "\n",
    "Get input from user\n",
    "\n",
    "need PID and VID\n",
    "TAN and Revision\n",
    "\n",
    "Store in 5 variables:\n",
    "    PID\n",
    "    VID\n",
    "    TAN\n",
    "    BaseTan\n",
    "    TANRev\n",
    "\n",
    "TODO \n",
    "Remove Spaces and extras if PID VID is commbined (assume it isnt)\n",
    "run validity check on input\n"
   ]
  },
  {
   "cell_type": "code",
   "execution_count": 50,
   "metadata": {},
   "outputs": [
    {
     "name": "stdout",
     "output_type": "stream",
     "text": [
      "C9800-C-L-CA-K9\n",
      "V03\n",
      "74-121485-02\n",
      "C0\n",
      "74-121485\n"
     ]
    }
   ],
   "source": [
    "PIDName = input(\"Enter PID:\")\n",
    "VIDName = input(\"Enter VID:\")\n",
    "TANIn = input(\"Enter full TAN:\")\n",
    "TANSplit = TANIn.split()\n",
    "TANRev = TANSplit[1]\n",
    "TANIn = TANSplit[0]\n",
    "TANSplit = TANSplit[0].split(\"-\")\n",
    "BaseTAN = TANSplit[0]+\"-\"+TANSplit[1]\n",
    "\n",
    "print(PIDName)\n",
    "print(VIDName)\n",
    "print(TANIn)\n",
    "print(TANRev)\n",
    "print(BaseTAN)"
   ]
  },
  {
   "cell_type": "markdown",
   "metadata": {},
   "source": [
    "Search the dataframe for the PID and load into a PID dataframe"
   ]
  },
  {
   "cell_type": "code",
   "execution_count": 51,
   "metadata": {},
   "outputs": [
    {
     "name": "stdout",
     "output_type": "stream",
     "text": [
      "<class 'pandas.core.frame.DataFrame'>\n",
      "Int64Index: 0 entries\n",
      "Data columns (total 32 columns):\n",
      " #   Column                Non-Null Count  Dtype         \n",
      "---  ------                --------------  -----         \n",
      " 0   DETAIL_ID             0 non-null      int64         \n",
      " 1   LINE_NUM              0 non-null      int64         \n",
      " 2   PID                   0 non-null      object        \n",
      " 3   PID_DESC              0 non-null      object        \n",
      " 4   PID_REV               0 non-null      object        \n",
      " 5   ECO                   0 non-null      object        \n",
      " 6   TAN                   0 non-null      object        \n",
      " 7   TAN_REV               0 non-null      object        \n",
      " 8   PCA                   0 non-null      object        \n",
      " 9   PCA_REV               0 non-null      object        \n",
      " 10  HW_REV                0 non-null      object        \n",
      " 11  SHIPPABLE             0 non-null      object        \n",
      " 12  EFFECTIVE_DATE        0 non-null      object        \n",
      " 13  REWORK_DETAIL         0 non-null      object        \n",
      " 14  ECO_ACTION            0 non-null      object        \n",
      " 15  ECO_TITLE             0 non-null      object        \n",
      " 16  COMMENTS              0 non-null      object        \n",
      " 17  CREATED_BY            0 non-null      float64       \n",
      " 18  CREATION_DATE         0 non-null      datetime64[ns]\n",
      " 19  MODIFIED_BY           0 non-null      float64       \n",
      " 20  MODIFIED_DATE         0 non-null      datetime64[ns]\n",
      " 21  MASKED_ECO_DATE       0 non-null      object        \n",
      " 22  ECO_TYPE              0 non-null      object        \n",
      " 23  UNMASK_DATE           0 non-null      datetime64[ns]\n",
      " 24  UNMASK_BY             0 non-null      float64       \n",
      " 25  EFF_DT_STATUS         0 non-null      object        \n",
      " 26  HISTORIC_FLAG         0 non-null      object        \n",
      " 27  ECO_TYPE_CHANGE_DATE  0 non-null      datetime64[ns]\n",
      " 28  VID                   0 non-null      object        \n",
      " 29  ITEM_GROUP            0 non-null      object        \n",
      " 30  FAB_SPIN              0 non-null      object        \n",
      " 31  ALTERNATE_TYPE        0 non-null      object        \n",
      "dtypes: datetime64[ns](4), float64(3), int64(2), object(23)\n",
      "memory usage: 0.0+ bytes\n",
      "None\n",
      "Empty DataFrame\n",
      "Columns: [DETAIL_ID, LINE_NUM, PID, PID_DESC, PID_REV, ECO, TAN, TAN_REV, PCA, PCA_REV, HW_REV, SHIPPABLE, EFFECTIVE_DATE, REWORK_DETAIL, ECO_ACTION, ECO_TITLE, COMMENTS, CREATED_BY, CREATION_DATE, MODIFIED_BY, MODIFIED_DATE, MASKED_ECO_DATE, ECO_TYPE, UNMASK_DATE, UNMASK_BY, EFF_DT_STATUS, HISTORIC_FLAG, ECO_TYPE_CHANGE_DATE, VID, ITEM_GROUP, FAB_SPIN, ALTERNATE_TYPE]\n",
      "Index: []\n",
      "\n",
      "[0 rows x 32 columns]\n"
     ]
    }
   ],
   "source": [
    "PIDMatrix = eco_matrix.query('PID == @PIDName')\n",
    "print(PIDMatrix.info())\n",
    "print(PIDMatrix)"
   ]
  },
  {
   "cell_type": "markdown",
   "metadata": {},
   "source": [
    "74 number Input\n",
    "set OEM flag\n",
    "if the TAN is a 74 then get the ECO number associated to the 74 revision\n",
    "set flag if the 74 is shippable\n",
    "get the TAN line associated to the ECO\n",
    "get the TANOEM, TANBaseOEM and TANRevOEM\n",
    "Mark if the TANOEM flag is shippable."
   ]
  },
  {
   "cell_type": "code",
   "execution_count": 52,
   "metadata": {},
   "outputs": [
    {
     "name": "stdout",
     "output_type": "stream",
     "text": [
      "<bound method DataFrame.info of Empty DataFrame\n",
      "Columns: [DETAIL_ID, LINE_NUM, PID, PID_DESC, PID_REV, ECO, TAN, TAN_REV, PCA, PCA_REV, HW_REV, SHIPPABLE, EFFECTIVE_DATE, REWORK_DETAIL, ECO_ACTION, ECO_TITLE, COMMENTS, CREATED_BY, CREATION_DATE, MODIFIED_BY, MODIFIED_DATE, MASKED_ECO_DATE, ECO_TYPE, UNMASK_DATE, UNMASK_BY, EFF_DT_STATUS, HISTORIC_FLAG, ECO_TYPE_CHANGE_DATE, VID, ITEM_GROUP, FAB_SPIN, ALTERNATE_TYPE]\n",
      "Index: []\n",
      "\n",
      "[0 rows x 32 columns]>\n",
      "Empty DataFrame\n",
      "Columns: [DETAIL_ID, LINE_NUM, PID, PID_DESC, PID_REV, ECO, TAN, TAN_REV, PCA, PCA_REV, HW_REV, SHIPPABLE, EFFECTIVE_DATE, REWORK_DETAIL, ECO_ACTION, ECO_TITLE, COMMENTS, CREATED_BY, CREATION_DATE, MODIFIED_BY, MODIFIED_DATE, MASKED_ECO_DATE, ECO_TYPE, UNMASK_DATE, UNMASK_BY, EFF_DT_STATUS, HISTORIC_FLAG, ECO_TYPE_CHANGE_DATE, VID, ITEM_GROUP, FAB_SPIN, ALTERNATE_TYPE]\n",
      "Index: []\n",
      "\n",
      "[0 rows x 32 columns]\n",
      "0\n",
      "Multiple Entries!!! Call Engineering\n"
     ]
    }
   ],
   "source": [
    "if(BaseTAN[0:2]==\"74\"):\n",
    "    OEMPart = True\n",
    "    Info74TAN = PIDMatrix.query('TAN == @TANIn')\n",
    "    Info74TAN = Info74TAN.query('TAN_REV == @TANRev')\n",
    "    print(Info74TAN.info)\n",
    "    print(Info74TAN)\n",
    "    print(Info74TAN.__len__())\n",
    "    if(Info74TAN.__len__() == 1):\n",
    "        ECOLevelRef = Info74TAN(\"ECO\")\n",
    "        if(Info74TAN(\"SHIPPABLE\") == \"$\"):\n",
    "            TANOEMShippable = True  \n",
    "        AllECOLines = PIDMatrix.query('ECO == @ECOLevelRef')\n",
    "        print(AllECOLines.info)\n",
    "        print(AllECOLines)\n",
    "    else:\n",
    "        print(\"Multiple Entries!!! Call Engineering\")\n",
    "        "
   ]
  },
  {
   "cell_type": "markdown",
   "metadata": {},
   "source": [
    "PID VID\n",
    "TODO\n",
    "check if all items under the VID in the PID section of the matrix are shippable\n",
    "if yes then set the flag that the PID is shippable\n",
    "if no then get the ECO number of the shippable TAN, lookup the row in the PID associated to that TAN, then pick up all required ECOs above that row to the shippable revision"
   ]
  },
  {
   "cell_type": "markdown",
   "metadata": {},
   "source": []
  },
  {
   "cell_type": "markdown",
   "metadata": {},
   "source": [
    "ECO markup - RF and WS rules\n",
    "TODO\n",
    "get list of ECOs mark them as no action, Use-as-is, nonsafety, Aldo approved or dusty approved"
   ]
  }
 ],
 "metadata": {
  "kernelspec": {
   "display_name": "Python 3",
   "language": "python",
   "name": "python3"
  },
  "language_info": {
   "codemirror_mode": {
    "name": "ipython",
    "version": 3
   },
   "file_extension": ".py",
   "mimetype": "text/x-python",
   "name": "python",
   "nbconvert_exporter": "python",
   "pygments_lexer": "ipython3",
   "version": "3.11.2"
  }
 },
 "nbformat": 4,
 "nbformat_minor": 2
}
